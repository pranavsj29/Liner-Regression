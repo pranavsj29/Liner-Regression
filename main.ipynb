{
 "cells": [
  {
   "cell_type": "code",
   "execution_count": 1,
   "id": "20aa860e",
   "metadata": {
    "pycharm": {
     "name": "#%%\n"
    }
   },
   "outputs": [],
   "source": [
    "from bs4 import BeautifulSoup\n",
    "import requests\n",
    "import pandas as pd\n"
   ]
  },
  {
   "cell_type": "markdown",
   "id": "7cbc65f9",
   "metadata": {
    "pycharm": {
     "name": "#%% md\n"
    }
   },
   "source": [
    "### Company Data"
   ]
  },
  {
   "cell_type": "code",
   "execution_count": 2,
   "id": "ea15169d",
   "metadata": {
    "pycharm": {
     "name": "#%%\n"
    }
   },
   "outputs": [
    {
     "ename": "FileNotFoundError",
     "evalue": "[Errno 2] No such file or directory: 'stock_symbolRushi.csv'",
     "output_type": "error",
     "traceback": [
      "\u001b[1;31m---------------------------------------------------------------------------\u001b[0m",
      "\u001b[1;31mFileNotFoundError\u001b[0m                         Traceback (most recent call last)",
      "\u001b[1;32m~\\AppData\\Local\\Temp/ipykernel_6284/707872505.py\u001b[0m in \u001b[0;36m<module>\u001b[1;34m\u001b[0m\n\u001b[1;32m----> 1\u001b[1;33m \u001b[0mdatabase\u001b[0m\u001b[1;33m=\u001b[0m\u001b[0mpd\u001b[0m\u001b[1;33m.\u001b[0m\u001b[0mread_csv\u001b[0m\u001b[1;33m(\u001b[0m\u001b[1;34m\"stock_symbolRushi.csv\"\u001b[0m\u001b[1;33m)\u001b[0m\u001b[1;33m\u001b[0m\u001b[1;33m\u001b[0m\u001b[0m\n\u001b[0m",
      "\u001b[1;32mD:\\software\\Anaconda\\lib\\site-packages\\pandas\\util\\_decorators.py\u001b[0m in \u001b[0;36mwrapper\u001b[1;34m(*args, **kwargs)\u001b[0m\n\u001b[0;32m    309\u001b[0m                     \u001b[0mstacklevel\u001b[0m\u001b[1;33m=\u001b[0m\u001b[0mstacklevel\u001b[0m\u001b[1;33m,\u001b[0m\u001b[1;33m\u001b[0m\u001b[1;33m\u001b[0m\u001b[0m\n\u001b[0;32m    310\u001b[0m                 )\n\u001b[1;32m--> 311\u001b[1;33m             \u001b[1;32mreturn\u001b[0m \u001b[0mfunc\u001b[0m\u001b[1;33m(\u001b[0m\u001b[1;33m*\u001b[0m\u001b[0margs\u001b[0m\u001b[1;33m,\u001b[0m \u001b[1;33m**\u001b[0m\u001b[0mkwargs\u001b[0m\u001b[1;33m)\u001b[0m\u001b[1;33m\u001b[0m\u001b[1;33m\u001b[0m\u001b[0m\n\u001b[0m\u001b[0;32m    312\u001b[0m \u001b[1;33m\u001b[0m\u001b[0m\n\u001b[0;32m    313\u001b[0m         \u001b[1;32mreturn\u001b[0m \u001b[0mwrapper\u001b[0m\u001b[1;33m\u001b[0m\u001b[1;33m\u001b[0m\u001b[0m\n",
      "\u001b[1;32mD:\\software\\Anaconda\\lib\\site-packages\\pandas\\io\\parsers\\readers.py\u001b[0m in \u001b[0;36mread_csv\u001b[1;34m(filepath_or_buffer, sep, delimiter, header, names, index_col, usecols, squeeze, prefix, mangle_dupe_cols, dtype, engine, converters, true_values, false_values, skipinitialspace, skiprows, skipfooter, nrows, na_values, keep_default_na, na_filter, verbose, skip_blank_lines, parse_dates, infer_datetime_format, keep_date_col, date_parser, dayfirst, cache_dates, iterator, chunksize, compression, thousands, decimal, lineterminator, quotechar, quoting, doublequote, escapechar, comment, encoding, encoding_errors, dialect, error_bad_lines, warn_bad_lines, on_bad_lines, delim_whitespace, low_memory, memory_map, float_precision, storage_options)\u001b[0m\n\u001b[0;32m    584\u001b[0m     \u001b[0mkwds\u001b[0m\u001b[1;33m.\u001b[0m\u001b[0mupdate\u001b[0m\u001b[1;33m(\u001b[0m\u001b[0mkwds_defaults\u001b[0m\u001b[1;33m)\u001b[0m\u001b[1;33m\u001b[0m\u001b[1;33m\u001b[0m\u001b[0m\n\u001b[0;32m    585\u001b[0m \u001b[1;33m\u001b[0m\u001b[0m\n\u001b[1;32m--> 586\u001b[1;33m     \u001b[1;32mreturn\u001b[0m \u001b[0m_read\u001b[0m\u001b[1;33m(\u001b[0m\u001b[0mfilepath_or_buffer\u001b[0m\u001b[1;33m,\u001b[0m \u001b[0mkwds\u001b[0m\u001b[1;33m)\u001b[0m\u001b[1;33m\u001b[0m\u001b[1;33m\u001b[0m\u001b[0m\n\u001b[0m\u001b[0;32m    587\u001b[0m \u001b[1;33m\u001b[0m\u001b[0m\n\u001b[0;32m    588\u001b[0m \u001b[1;33m\u001b[0m\u001b[0m\n",
      "\u001b[1;32mD:\\software\\Anaconda\\lib\\site-packages\\pandas\\io\\parsers\\readers.py\u001b[0m in \u001b[0;36m_read\u001b[1;34m(filepath_or_buffer, kwds)\u001b[0m\n\u001b[0;32m    480\u001b[0m \u001b[1;33m\u001b[0m\u001b[0m\n\u001b[0;32m    481\u001b[0m     \u001b[1;31m# Create the parser.\u001b[0m\u001b[1;33m\u001b[0m\u001b[1;33m\u001b[0m\u001b[1;33m\u001b[0m\u001b[0m\n\u001b[1;32m--> 482\u001b[1;33m     \u001b[0mparser\u001b[0m \u001b[1;33m=\u001b[0m \u001b[0mTextFileReader\u001b[0m\u001b[1;33m(\u001b[0m\u001b[0mfilepath_or_buffer\u001b[0m\u001b[1;33m,\u001b[0m \u001b[1;33m**\u001b[0m\u001b[0mkwds\u001b[0m\u001b[1;33m)\u001b[0m\u001b[1;33m\u001b[0m\u001b[1;33m\u001b[0m\u001b[0m\n\u001b[0m\u001b[0;32m    483\u001b[0m \u001b[1;33m\u001b[0m\u001b[0m\n\u001b[0;32m    484\u001b[0m     \u001b[1;32mif\u001b[0m \u001b[0mchunksize\u001b[0m \u001b[1;32mor\u001b[0m \u001b[0miterator\u001b[0m\u001b[1;33m:\u001b[0m\u001b[1;33m\u001b[0m\u001b[1;33m\u001b[0m\u001b[0m\n",
      "\u001b[1;32mD:\\software\\Anaconda\\lib\\site-packages\\pandas\\io\\parsers\\readers.py\u001b[0m in \u001b[0;36m__init__\u001b[1;34m(self, f, engine, **kwds)\u001b[0m\n\u001b[0;32m    809\u001b[0m             \u001b[0mself\u001b[0m\u001b[1;33m.\u001b[0m\u001b[0moptions\u001b[0m\u001b[1;33m[\u001b[0m\u001b[1;34m\"has_index_names\"\u001b[0m\u001b[1;33m]\u001b[0m \u001b[1;33m=\u001b[0m \u001b[0mkwds\u001b[0m\u001b[1;33m[\u001b[0m\u001b[1;34m\"has_index_names\"\u001b[0m\u001b[1;33m]\u001b[0m\u001b[1;33m\u001b[0m\u001b[1;33m\u001b[0m\u001b[0m\n\u001b[0;32m    810\u001b[0m \u001b[1;33m\u001b[0m\u001b[0m\n\u001b[1;32m--> 811\u001b[1;33m         \u001b[0mself\u001b[0m\u001b[1;33m.\u001b[0m\u001b[0m_engine\u001b[0m \u001b[1;33m=\u001b[0m \u001b[0mself\u001b[0m\u001b[1;33m.\u001b[0m\u001b[0m_make_engine\u001b[0m\u001b[1;33m(\u001b[0m\u001b[0mself\u001b[0m\u001b[1;33m.\u001b[0m\u001b[0mengine\u001b[0m\u001b[1;33m)\u001b[0m\u001b[1;33m\u001b[0m\u001b[1;33m\u001b[0m\u001b[0m\n\u001b[0m\u001b[0;32m    812\u001b[0m \u001b[1;33m\u001b[0m\u001b[0m\n\u001b[0;32m    813\u001b[0m     \u001b[1;32mdef\u001b[0m \u001b[0mclose\u001b[0m\u001b[1;33m(\u001b[0m\u001b[0mself\u001b[0m\u001b[1;33m)\u001b[0m\u001b[1;33m:\u001b[0m\u001b[1;33m\u001b[0m\u001b[1;33m\u001b[0m\u001b[0m\n",
      "\u001b[1;32mD:\\software\\Anaconda\\lib\\site-packages\\pandas\\io\\parsers\\readers.py\u001b[0m in \u001b[0;36m_make_engine\u001b[1;34m(self, engine)\u001b[0m\n\u001b[0;32m   1038\u001b[0m             )\n\u001b[0;32m   1039\u001b[0m         \u001b[1;31m# error: Too many arguments for \"ParserBase\"\u001b[0m\u001b[1;33m\u001b[0m\u001b[1;33m\u001b[0m\u001b[1;33m\u001b[0m\u001b[0m\n\u001b[1;32m-> 1040\u001b[1;33m         \u001b[1;32mreturn\u001b[0m \u001b[0mmapping\u001b[0m\u001b[1;33m[\u001b[0m\u001b[0mengine\u001b[0m\u001b[1;33m]\u001b[0m\u001b[1;33m(\u001b[0m\u001b[0mself\u001b[0m\u001b[1;33m.\u001b[0m\u001b[0mf\u001b[0m\u001b[1;33m,\u001b[0m \u001b[1;33m**\u001b[0m\u001b[0mself\u001b[0m\u001b[1;33m.\u001b[0m\u001b[0moptions\u001b[0m\u001b[1;33m)\u001b[0m  \u001b[1;31m# type: ignore[call-arg]\u001b[0m\u001b[1;33m\u001b[0m\u001b[1;33m\u001b[0m\u001b[0m\n\u001b[0m\u001b[0;32m   1041\u001b[0m \u001b[1;33m\u001b[0m\u001b[0m\n\u001b[0;32m   1042\u001b[0m     \u001b[1;32mdef\u001b[0m \u001b[0m_failover_to_python\u001b[0m\u001b[1;33m(\u001b[0m\u001b[0mself\u001b[0m\u001b[1;33m)\u001b[0m\u001b[1;33m:\u001b[0m\u001b[1;33m\u001b[0m\u001b[1;33m\u001b[0m\u001b[0m\n",
      "\u001b[1;32mD:\\software\\Anaconda\\lib\\site-packages\\pandas\\io\\parsers\\c_parser_wrapper.py\u001b[0m in \u001b[0;36m__init__\u001b[1;34m(self, src, **kwds)\u001b[0m\n\u001b[0;32m     49\u001b[0m \u001b[1;33m\u001b[0m\u001b[0m\n\u001b[0;32m     50\u001b[0m         \u001b[1;31m# open handles\u001b[0m\u001b[1;33m\u001b[0m\u001b[1;33m\u001b[0m\u001b[1;33m\u001b[0m\u001b[0m\n\u001b[1;32m---> 51\u001b[1;33m         \u001b[0mself\u001b[0m\u001b[1;33m.\u001b[0m\u001b[0m_open_handles\u001b[0m\u001b[1;33m(\u001b[0m\u001b[0msrc\u001b[0m\u001b[1;33m,\u001b[0m \u001b[0mkwds\u001b[0m\u001b[1;33m)\u001b[0m\u001b[1;33m\u001b[0m\u001b[1;33m\u001b[0m\u001b[0m\n\u001b[0m\u001b[0;32m     52\u001b[0m         \u001b[1;32massert\u001b[0m \u001b[0mself\u001b[0m\u001b[1;33m.\u001b[0m\u001b[0mhandles\u001b[0m \u001b[1;32mis\u001b[0m \u001b[1;32mnot\u001b[0m \u001b[1;32mNone\u001b[0m\u001b[1;33m\u001b[0m\u001b[1;33m\u001b[0m\u001b[0m\n\u001b[0;32m     53\u001b[0m \u001b[1;33m\u001b[0m\u001b[0m\n",
      "\u001b[1;32mD:\\software\\Anaconda\\lib\\site-packages\\pandas\\io\\parsers\\base_parser.py\u001b[0m in \u001b[0;36m_open_handles\u001b[1;34m(self, src, kwds)\u001b[0m\n\u001b[0;32m    220\u001b[0m         \u001b[0mLet\u001b[0m \u001b[0mthe\u001b[0m \u001b[0mreaders\u001b[0m \u001b[0mopen\u001b[0m \u001b[0mIOHandles\u001b[0m \u001b[0mafter\u001b[0m \u001b[0mthey\u001b[0m \u001b[0mare\u001b[0m \u001b[0mdone\u001b[0m \u001b[1;32mwith\u001b[0m \u001b[0mtheir\u001b[0m \u001b[0mpotential\u001b[0m \u001b[0mraises\u001b[0m\u001b[1;33m.\u001b[0m\u001b[1;33m\u001b[0m\u001b[1;33m\u001b[0m\u001b[0m\n\u001b[0;32m    221\u001b[0m         \"\"\"\n\u001b[1;32m--> 222\u001b[1;33m         self.handles = get_handle(\n\u001b[0m\u001b[0;32m    223\u001b[0m             \u001b[0msrc\u001b[0m\u001b[1;33m,\u001b[0m\u001b[1;33m\u001b[0m\u001b[1;33m\u001b[0m\u001b[0m\n\u001b[0;32m    224\u001b[0m             \u001b[1;34m\"r\"\u001b[0m\u001b[1;33m,\u001b[0m\u001b[1;33m\u001b[0m\u001b[1;33m\u001b[0m\u001b[0m\n",
      "\u001b[1;32mD:\\software\\Anaconda\\lib\\site-packages\\pandas\\io\\common.py\u001b[0m in \u001b[0;36mget_handle\u001b[1;34m(path_or_buf, mode, encoding, compression, memory_map, is_text, errors, storage_options)\u001b[0m\n\u001b[0;32m    700\u001b[0m         \u001b[1;32mif\u001b[0m \u001b[0mioargs\u001b[0m\u001b[1;33m.\u001b[0m\u001b[0mencoding\u001b[0m \u001b[1;32mand\u001b[0m \u001b[1;34m\"b\"\u001b[0m \u001b[1;32mnot\u001b[0m \u001b[1;32min\u001b[0m \u001b[0mioargs\u001b[0m\u001b[1;33m.\u001b[0m\u001b[0mmode\u001b[0m\u001b[1;33m:\u001b[0m\u001b[1;33m\u001b[0m\u001b[1;33m\u001b[0m\u001b[0m\n\u001b[0;32m    701\u001b[0m             \u001b[1;31m# Encoding\u001b[0m\u001b[1;33m\u001b[0m\u001b[1;33m\u001b[0m\u001b[1;33m\u001b[0m\u001b[0m\n\u001b[1;32m--> 702\u001b[1;33m             handle = open(\n\u001b[0m\u001b[0;32m    703\u001b[0m                 \u001b[0mhandle\u001b[0m\u001b[1;33m,\u001b[0m\u001b[1;33m\u001b[0m\u001b[1;33m\u001b[0m\u001b[0m\n\u001b[0;32m    704\u001b[0m                 \u001b[0mioargs\u001b[0m\u001b[1;33m.\u001b[0m\u001b[0mmode\u001b[0m\u001b[1;33m,\u001b[0m\u001b[1;33m\u001b[0m\u001b[1;33m\u001b[0m\u001b[0m\n",
      "\u001b[1;31mFileNotFoundError\u001b[0m: [Errno 2] No such file or directory: 'stock_symbolRushi.csv'"
     ]
    }
   ],
   "source": [
    "database=pd.read_csv(\"stock_symbolRushi.csv\")"
   ]
  },
  {
   "cell_type": "code",
   "execution_count": null,
   "id": "3d4a0892",
   "metadata": {
    "pycharm": {
     "name": "#%%\n"
    }
   },
   "outputs": [],
   "source": [
    "database"
   ]
  },
  {
   "cell_type": "code",
   "execution_count": 3,
   "id": "3c21c77e",
   "metadata": {},
   "outputs": [],
   "source": [
    "go =\"https://www.moneycontrol.com/company-article/bharatforge/news/BF03\""
   ]
  },
  {
   "cell_type": "code",
   "execution_count": 4,
   "id": "ee7e8c5c",
   "metadata": {
    "pycharm": {
     "name": "#%%\n"
    }
   },
   "outputs": [],
   "source": [
    "# go=database[\"link\"][3]\n",
    "# go"
   ]
  },
  {
   "cell_type": "code",
   "execution_count": 5,
   "id": "777b1069",
   "metadata": {
    "pycharm": {
     "name": "#%%\n"
    }
   },
   "outputs": [
    {
     "data": {
      "text/plain": [
       "<Response [200]>"
      ]
     },
     "execution_count": 5,
     "metadata": {},
     "output_type": "execute_result"
    }
   ],
   "source": [
    "res=requests.get(go)\n",
    "res"
   ]
  },
  {
   "cell_type": "code",
   "execution_count": 6,
   "id": "80271999",
   "metadata": {
    "pycharm": {
     "name": "#%%\n"
    }
   },
   "outputs": [
    {
     "data": {
      "text/plain": [
       "[<div align=\"right\" class=\"pages MR10 MT15\">\n",
       " <span class=\"current\"><b>1</b></span> <a href=\"/stocks/company_info/stock_news.php?sc_id=BFC&amp;scat=&amp;pageno=2&amp;next=0&amp;durationType=M&amp;Year=&amp;duration=6&amp;news_type=\">2</a> </div>]"
      ]
     },
     "execution_count": 6,
     "metadata": {},
     "output_type": "execute_result"
    }
   ],
   "source": [
    "soup=BeautifulSoup(res.text,\"lxml\")\n",
    "l=soup.findAll(\"div\",class_=\"pages MR10 MT15\")\n",
    "l"
   ]
  },
  {
   "cell_type": "code",
   "execution_count": 7,
   "id": "6362bbc2",
   "metadata": {
    "pycharm": {
     "name": "#%%\n"
    }
   },
   "outputs": [
    {
     "name": "stdout",
     "output_type": "stream",
     "text": [
      "20\n"
     ]
    }
   ],
   "source": [
    "newurl=[go]\n",
    "def next_page_urls(l):\n",
    "    global newurl\n",
    "    for i in l:\n",
    "        try:\n",
    "            p=(i.a.get(\"href\"))\n",
    "        except AttributeError:\n",
    "            return newurl\n",
    "        else:\n",
    "            main='https://www.moneycontrol.com'\n",
    "            nexturl=main+p\n",
    "            newurl.append(nexturl)\n",
    "    return newurl\n",
    "\n",
    "newurl= next_page_urls(l)\n",
    "\n",
    "if newurl!=None:\n",
    "    all_links=[]\n",
    "    for page in newurl:\n",
    "        nres=requests.get(page)\n",
    "        nsoup=BeautifulSoup(nres.text,\"lxml\")\n",
    "        nlinks=(nsoup.find_all(\"a\",class_=\"g_14bl\"))\n",
    "        nlinks=list(nlinks)\n",
    "        all_links.extend(nlinks)\n",
    "\n",
    "print(len(all_links))"
   ]
  },
  {
   "cell_type": "code",
   "execution_count": 8,
   "id": "bce74636",
   "metadata": {
    "pycharm": {
     "name": "#%%\n"
    }
   },
   "outputs": [
    {
     "name": "stdout",
     "output_type": "stream",
     "text": [
      "20\n"
     ]
    }
   ],
   "source": [
    "urls=[]\n",
    "for i in range(len(all_links)):\n",
    "    link=str(all_links[i])\n",
    "    link=link[link.index(\"/news\"):link.index('\">\\n<')]\n",
    "    parent=\"https://www.moneycontrol.com\"\n",
    "    link=parent+link\n",
    "    urls.append(link)\n",
    "\n",
    "print(len(urls))"
   ]
  },
  {
   "cell_type": "code",
   "execution_count": 9,
   "id": "aa0b15ef",
   "metadata": {
    "pycharm": {
     "name": "#%%\n"
    }
   },
   "outputs": [
    {
     "name": "stdout",
     "output_type": "stream",
     "text": [
      "['https://www.moneycontrol.com/news/recommendations/hold-bharat-forge-targetrs-785-emkay-global-financial_16606581.html', 'https://www.moneycontrol.com/news/technicals/trade-spotlight-|-what-should-you-dobharat-forge-zomato-newgen-software-technologiestuesday_16585591.html', 'https://www.moneycontrol.com/news/technicals/trade-spotlight-|-what-should-you-dobharat-forge-zomato-newgen-software-technologiestuesday_16585581.html', 'https://www.moneycontrol.com/news/recommendations/buy-bharat-forge-targetrs-870-motilal-oswal_16584721.html', 'https://www.moneycontrol.com/news/recommendations/buy-bharat-forge-targetrs-900-icici-direct_16584591.html', 'https://www.moneycontrol.com/news/recommendations/buy-bharat-forge-targetrs-900-prabhudas-lilladher_16583381.html', 'https://www.moneycontrol.com/news/result-analysis/decent-setnumbers-by-bharat-forge_16581061.html', 'https://www.moneycontrol.com/news/results/bharat-forge-consolidated-june-2022-net-sales-at-rs-285146-crore3529-y-o-y_16581161.html', 'https://www.moneycontrol.com/news/results/bharat-forge-consolidated-june-2022-net-sales-at-rs-285146-crore3529-y-o-y_16581121.html', 'https://www.moneycontrol.com/news/results/bharat-forge-standalone-june-2022-net-sales-at-rs-175939-crore2825-y-o-y_16579571.html', 'https://www.moneycontrol.com/news/recommendations/buy-bharat-forge-targetrs-775-emkay-global-financial_16490921.html', 'https://www.moneycontrol.com/news/recommendations/buy-bharat-forge-targetrs-865-motilal-oswal_16394401.html', 'https://www.moneycontrol.com/news/recommendations/buy-bharat-forge-targetrs-810-emkay-global-financial_16394361.html', 'https://www.moneycontrol.com/news/recommendations/buy-bharat-forge-targetrs-900-prabhudas-lilladher_16393661.html', 'https://www.moneycontrol.com/news/recommendations/buy-bharat-forge-targetrs-840-icici-direct_16393341.html', 'https://www.moneycontrol.com/news/result-analysis/strong-setnumbers-by-bharat-forge-outlook-promising_16391261.html', 'https://www.moneycontrol.com/news/result-analysis/strong-setnumbers-by-bharat-forge-outlook-promising_16391241.html', 'https://www.moneycontrol.com/news/results/bharat-forge-consolidated-march-2022-net-sales-at-rs-357309-crore7155-y-o-y_16389381.html', 'https://www.moneycontrol.com/news/results/bharat-forge-standalone-march-2022-net-sales-at-rs-167408-crore2805-y-o-y_16388821.html', 'https://www.moneycontrol.com/news/recommendations/buy-bharat-forge-targetrs-840-emkay-global-financial_16206221.html']\n"
     ]
    }
   ],
   "source": [
    "print(urls)"
   ]
  },
  {
   "cell_type": "code",
   "execution_count": 10,
   "id": "01c23b25",
   "metadata": {
    "pycharm": {
     "name": "#%%\n"
    }
   },
   "outputs": [
    {
     "name": "stdout",
     "output_type": "stream",
     "text": [
      "20\n",
      "1\n",
      "https://www.moneycontrol.com/news/recommendations/hold-bharat-forge-targetrs-785-emkay-global-financial_16606581.html\n",
      "2\n",
      "https://www.moneycontrol.com/news/technicals/trade-spotlight-|-what-should-you-dobharat-forge-zomato-newgen-software-technologiestuesday_16585591.html\n",
      "3\n",
      "https://www.moneycontrol.com/news/technicals/trade-spotlight-|-what-should-you-dobharat-forge-zomato-newgen-software-technologiestuesday_16585581.html\n",
      "4\n",
      "https://www.moneycontrol.com/news/recommendations/buy-bharat-forge-targetrs-870-motilal-oswal_16584721.html\n",
      "5\n",
      "https://www.moneycontrol.com/news/recommendations/buy-bharat-forge-targetrs-900-icici-direct_16584591.html\n",
      "6\n",
      "https://www.moneycontrol.com/news/recommendations/buy-bharat-forge-targetrs-900-prabhudas-lilladher_16583381.html\n",
      "7\n",
      "https://www.moneycontrol.com/news/result-analysis/decent-setnumbers-by-bharat-forge_16581061.html\n",
      "8\n",
      "https://www.moneycontrol.com/news/results/bharat-forge-consolidated-june-2022-net-sales-at-rs-285146-crore3529-y-o-y_16581161.html\n",
      "9\n",
      "https://www.moneycontrol.com/news/results/bharat-forge-consolidated-june-2022-net-sales-at-rs-285146-crore3529-y-o-y_16581121.html\n",
      "10\n",
      "https://www.moneycontrol.com/news/results/bharat-forge-standalone-june-2022-net-sales-at-rs-175939-crore2825-y-o-y_16579571.html\n",
      "11\n",
      "https://www.moneycontrol.com/news/recommendations/buy-bharat-forge-targetrs-775-emkay-global-financial_16490921.html\n",
      "12\n",
      "https://www.moneycontrol.com/news/recommendations/buy-bharat-forge-targetrs-865-motilal-oswal_16394401.html\n",
      "13\n",
      "https://www.moneycontrol.com/news/recommendations/buy-bharat-forge-targetrs-810-emkay-global-financial_16394361.html\n",
      "14\n",
      "https://www.moneycontrol.com/news/recommendations/buy-bharat-forge-targetrs-900-prabhudas-lilladher_16393661.html\n",
      "15\n",
      "https://www.moneycontrol.com/news/recommendations/buy-bharat-forge-targetrs-840-icici-direct_16393341.html\n",
      "16\n",
      "https://www.moneycontrol.com/news/result-analysis/strong-setnumbers-by-bharat-forge-outlook-promising_16391261.html\n",
      "17\n",
      "https://www.moneycontrol.com/news/result-analysis/strong-setnumbers-by-bharat-forge-outlook-promising_16391241.html\n",
      "18\n",
      "https://www.moneycontrol.com/news/results/bharat-forge-consolidated-march-2022-net-sales-at-rs-357309-crore7155-y-o-y_16389381.html\n",
      "19\n",
      "https://www.moneycontrol.com/news/results/bharat-forge-standalone-march-2022-net-sales-at-rs-167408-crore2805-y-o-y_16388821.html\n",
      "20\n",
      "https://www.moneycontrol.com/news/recommendations/buy-bharat-forge-targetrs-840-emkay-global-financial_16206221.html\n"
     ]
    }
   ],
   "source": [
    "print(len(urls))\n",
    "count=1\n",
    "for i in urls:\n",
    "    print(count)\n",
    "    print(i)\n",
    "    count+=1"
   ]
  },
  {
   "cell_type": "code",
   "execution_count": 11,
   "id": "d3e75517",
   "metadata": {
    "pycharm": {
     "name": "#%%\n"
    }
   },
   "outputs": [],
   "source": [
    "headlines=[]\n",
    "subheadlines=[]\n",
    "authors=[]\n",
    "dates=[]\n",
    "times=[]\n",
    "articles=[]\n",
    "for url in urls:\n",
    "    response=requests.get(url).text\n",
    "    news=BeautifulSoup(response,\"lxml\")\n",
    "\n",
    "    #HEADING\n",
    "    try:\n",
    "        heading=news.find(\"h1\",class_=\"article_title\").text\n",
    "    except AttributeError:\n",
    "        pass\n",
    "    else:\n",
    "        headlines.append(heading)\n",
    "\n",
    "    #SUBHEADING\n",
    "    try:\n",
    "        subheading=news.find(\"h2\",class_=\"article_desc\").text\n",
    "    except AttributeError:\n",
    "        pass\n",
    "        \n",
    "    else:\n",
    "        if (len(subheading)>5):\n",
    "            subheadlines.append(subheading)\n",
    "        else:\n",
    "            subheadlines.append(heading)\n",
    "\n",
    "    #DATE\n",
    "    try:\n",
    "        date_time=news.find(\"div\",class_=\"article_schedule\").text\n",
    "\n",
    "    except AttributeError:\n",
    "        date=None\n",
    "    else:\n",
    "        date=date_time.split(\" / \")[-2].strip()\n",
    "        time=date_time.split(\" / \")[-1].strip()\n",
    "        times.append(time)\n",
    "        dates.append(date)\n",
    "\n",
    "    #AUTHOR\n",
    "\n",
    "    \n",
    "    try:\n",
    "        author=news.find(\"div\",class_=\"article_author\").text\n",
    "    except AttributeError:\n",
    "        if date==None:\n",
    "            pass\n",
    "        else:\n",
    "            author=\"No Author\"\n",
    "            authors.append(\"No Author\")\n",
    "    else:\n",
    "        authors.append(author.strip())\n",
    "        \n",
    "    #ARTICLE\n",
    "    try:\n",
    "        news=news.find(\"div\",class_=\"content_wrapper arti-flow\")\n",
    "        article=\"\"\n",
    "    except AttributeError:\n",
    "        pass\n",
    "    else:\n",
    "        try:\n",
    "            news.find('div',class_=\"social_icons_wrapper\").decompose()\n",
    "            news.find('div',class_=\"article_image_wrapper article_image_main_wrapper\").decompose()\n",
    "            news.find('div',class_=\"stockwidget\").decompose()\n",
    "            news.find('div',class_=\"hide-moblie mid-arti-ad\").decompose()\n",
    "            news.find('div',class_=\"show-moblie fixedfortopwrap\").decompose()\n",
    "        except AttributeError:\n",
    "            pass\n",
    "        else:\n",
    "            try:\n",
    "                news.find('div',class_=\"show-moblie\").decompose()\n",
    "            except AttributeError:\n",
    "                pass\n",
    "            try:\n",
    "                news.find('div',class_=\"related_stories_left_block\").decompose()\n",
    "            except AttributeError:\n",
    "                pass\n",
    "        try:\n",
    "            article = news.text\n",
    "        except AttributeError:\n",
    "            pass\n",
    "        else:\n",
    "            article=article.replace(\"For all recommendations report,\\xa0click here\",\"\")\n",
    "            article=article.replace(\"\\r\",\"\")\n",
    "            article=article[:article.find(\"Disclaimer\")]\n",
    "            # print(article.strip())\n",
    "            articles.append(article.strip())\n",
    "   "
   ]
  },
  {
   "cell_type": "code",
   "execution_count": 12,
   "id": "d3d67445",
   "metadata": {
    "pycharm": {
     "name": "#%%\n"
    }
   },
   "outputs": [
    {
     "name": "stdout",
     "output_type": "stream",
     "text": [
      "1\n",
      "REC seeks shareholders' nod to raise up to Rs 75,000 crore via bonds\n",
      "2\n",
      "REC gets shareholders' nod to issue bonus share\n",
      "3\n",
      "REC Standalone June 2022 Net Sales at Rs 9,459.90 crore, down 1.33% Y-o-Y\n",
      "4\n",
      "REC Consolidated June 2022 Net Sales at Rs 9,497.45 crore, down 1.39% Y-o-Y\n",
      "5\n",
      "REC Consolidated March 2022 Net Sales at Rs 9,633.37 crore, up 4.58% Y-o-Y\n",
      "6\n",
      "REC Standalone March 2022 Net Sales at Rs 9,580.10 crore, up 4.75% Y-o-Y\n"
     ]
    }
   ],
   "source": [
    "for count,text in enumerate(headlines,1):\n",
    "    print(count)\n",
    "    print(text)\n"
   ]
  },
  {
   "cell_type": "code",
   "execution_count": 13,
   "id": "55776c2a",
   "metadata": {
    "pycharm": {
     "name": "#%%\n"
    }
   },
   "outputs": [
    {
     "name": "stdout",
     "output_type": "stream",
     "text": [
      "1\n",
      "The funds are proposed to be raised through issuance of debentures on private placement basis during a period of one year from the date of passing of the resolution, in one or more tranches, as per the AGM notice.\n",
      "2\n",
      "The company had proposed to issue one new (bonus) share for holding three existing shares to shareholders, as per a postal ballot notice of the REC.\n",
      "3\n",
      "REC Standalone June 2022 Net Sales at Rs 9,459.90 crore, down 1.33% Y-o-Y\n",
      "4\n",
      "REC Consolidated June 2022 Net Sales at Rs 9,497.45 crore, down 1.39% Y-o-Y\n",
      "5\n",
      "REC Consolidated March 2022 Net Sales at Rs 9,633.37 crore, up 4.58% Y-o-Y\n",
      "6\n",
      "REC Standalone March 2022 Net Sales at Rs 9,580.10 crore, up 4.75% Y-o-Y\n"
     ]
    }
   ],
   "source": [
    "for count,text in enumerate(subheadlines,1):\n",
    "    print(count)\n",
    "    print(text)\n"
   ]
  },
  {
   "cell_type": "code",
   "execution_count": 14,
   "id": "dc635e43",
   "metadata": {
    "pycharm": {
     "name": "#%%\n"
    }
   },
   "outputs": [
    {
     "name": "stdout",
     "output_type": "stream",
     "text": [
      "1\n",
      "September 05, 2022\n",
      "2\n",
      "August 10, 2022\n",
      "3\n",
      "August 05, 2022\n",
      "4\n",
      "August 05, 2022\n",
      "5\n",
      "May 16, 2022\n",
      "6\n",
      "May 16, 2022\n"
     ]
    }
   ],
   "source": [
    "for count,text in enumerate(dates,1):\n",
    "    print(count)\n",
    "    print(text)\n"
   ]
  },
  {
   "cell_type": "code",
   "execution_count": 15,
   "id": "9da6cb49",
   "metadata": {
    "pycharm": {
     "name": "#%%\n"
    }
   },
   "outputs": [
    {
     "name": "stdout",
     "output_type": "stream",
     "text": [
      "1\n",
      "01:45 PM IST\n",
      "2\n",
      "02:21 PM IST\n",
      "3\n",
      "01:24 PM IST\n",
      "4\n",
      "01:09 PM IST\n",
      "5\n",
      "09:49 AM IST\n",
      "6\n",
      "09:07 AM IST\n"
     ]
    }
   ],
   "source": [
    "for count,text in enumerate(times,1):\n",
    "    print(count)\n",
    "    print(text)\n"
   ]
  },
  {
   "cell_type": "code",
   "execution_count": 16,
   "id": "baf38d5f",
   "metadata": {
    "pycharm": {
     "name": "#%%\n"
    }
   },
   "outputs": [
    {
     "name": "stdout",
     "output_type": "stream",
     "text": [
      "1\n",
      "PTI\n",
      "2\n",
      "PTI\n",
      "3\n",
      "No Author\n",
      "4\n",
      "No Author\n",
      "5\n",
      "No Author\n",
      "6\n",
      "No Author\n"
     ]
    }
   ],
   "source": [
    "for count,text in enumerate(authors,1):\n",
    "    print(count)\n",
    "    print(text)\n"
   ]
  },
  {
   "cell_type": "code",
   "execution_count": 17,
   "id": "2ef794bf",
   "metadata": {
    "pycharm": {
     "name": "#%%\n"
    }
   },
   "outputs": [
    {
     "name": "stdout",
     "output_type": "stream",
     "text": [
      "1\n",
      "REC Ltd will seek shareholders' approval to raise up to Rs 75,000 crore through issuance of bonds next week. The funds are proposed to be raised through issuance of debentures on private placement basis during a period of one year from the date of passing of the resolution, in one or more tranches, as per the AGM notice.The limit of Rs 75,000 crore shall be within the overall revised borrowing limit. The annual general meeting (AGM) of shareholders is scheduled for September 16, 2022.REC will also seek shareholders' approval to authorize the board to mortgage/create charge on immovable and/or movable properties of the company, for securing loan up to Rs 4,50,000 crore.\n",
      "2\n",
      "State-owned REC has received shareholders' approval for the proposal to issue 65.83 crore bonus shares, utilising capital reserves of Rs 658.30 crore.\"...two resolutions as set out in the Postal Ballot Notice dated July 8, 2022, of the Company have been approved by the shareholders with requisite majority,\" a BSE filing stated.The company had proposed to issue one new (bonus) share for holding three existing shares to shareholders, as per a postal ballot notice of the REC.The Board of Directors in its meeting held on June 30, 2022, had recommended the proposal for the issue of bonus shares to the shareholders of the company in the proportion of 1:3 i.e. one new equity share of Rs 10 each for every three equity share(s) of Rs 10 each held by the shareholders as on the record date, by the capitalisation of a sum of Rs 6,58,30,60,000 out of the sum standing to the credit of 'Securities Premium Account' of the company.The said amount is proposed to be applied in full for the issue of 65,83,06,000 new equity shares of Rs 10 each at par with bonus shares. Consequently, the paid-up capital of the company will increase to Rs 2,633.22 crore -- 2,63,32,24,000 equity shares of Rs 10 each.The company has also received shareholders' approval to appoint Vivek Kumar Dewangan as its Chairman and Managing Director. The Appointments Committee of the Cabinet (ACC) conveyed the appointment of Dewangan as Chairman and Managing Director (CMD) of REC on May 13, 2022.Dewangan assumed the charge as REC CMD on May 17, 2022. He is an IAS officer of the Manipur cadre (1993 Batch). He holds BE in Electronics from NIT, Bhopal and PG in Optoelectronics and Optical Communication from IIT, Delhi. He holds BE in Electronics from NIT, Bhopal and PG in Optoelectronics and Optical Communication from IIT, Delhi.\n",
      "3\n",
      "Reported Standalone quarterly numbers for REC are:Net Sales at Rs 9,459.90 crore in June 2022 down 1.33% from Rs. 9,587.35 crore in June 2021.Quarterly Net Profit at Rs. 2,447.26 crore in June 2022 up 8.93% from Rs. 2,246.60 crore in June 2021.EBITDA stands at Rs. 8,322.13 crore in June 2022 down 0.33% from Rs. 8,349.43 crore in June 2021.REC EPS has increased to Rs. 12.39 in June 2022 from Rs. 11.38 in June 2021.REC shares closed at 132.70 on August 04, 2022 (NSE) and has given -5.62% returns over the last 6 months and -14.05% over the last 12 months.RECStandalone Quarterly Resultsin Rs. Cr.Jun'22Mar'22Jun'21Net Sales/Income from operations9,373.789,315.279,437.23Other Operating Income86.12264.83150.12Total Income From Operations9,459.909,580.109,587.35EXPENDITUREConsumption of Raw Materials------Purchase of Traded Goods------Increase/Decrease in Stocks------Power & Fuel------Employees Cost75.4136.0739.36Depreciation5.895.432.81Excise Duty------Admin. And Selling Expenses------R & D Expenses------Provisions And Contingencies504.50754.34781.44Exp. Capitalised------Other Expenses566.47619.53421.88P/L Before Other Inc. , Int., Excpt. Items & Tax8,307.638,164.738,341.86Other Income8.6121.474.76P/L Before Int., Excpt. Items & Tax8,316.248,186.208,346.62Interest5,376.695,353.085,588.56P/L Before Exceptional Items & Tax2,939.552,833.122,758.06Exceptional Items------P/L Before Tax2,939.552,833.122,758.06Tax492.29545.24511.46P/L After Tax from Ordinary Activities2,447.262,287.882,246.60Prior Year Adjustments------Extra Ordinary Items------Net Profit/(Loss) For the Period2,447.262,287.882,246.60Equity Share Capital1,974.921,974.921,974.92Reserves Excluding Revaluation Reserves------Equity Dividend Rate (%)------EPS Before Extra OrdinaryBasic EPS12.3911.5811.38Diluted EPS12.3911.5811.38EPS After Extra OrdinaryBasic EPS12.3911.5811.38Diluted EPS12.3911.5811.38Public Share HoldingNo Of Shares (Crores)------Share Holding (%)------Promoters and Promoter Group Shareholdinga) Pledged/Encumbered- Number of shares (Crores)------- Per. of shares (as a % of the total sh. of prom. and promoter group)------- Per. of shares (as a % of the total Share Cap. of the company)------b) Non-encumbered- Number of shares (Crores)------- Per. of shares (as a % of the total sh. of prom. and promoter group)------- Per. of shares (as a % of the total Share Cap. of the company)------Source :  Dion Global Solutions Limited\n",
      "4\n",
      "Reported Consolidated quarterly numbers for REC are:Net Sales at Rs 9,497.45 crore in June 2022 down 1.39% from Rs. 9,631.61 crore in June 2021.Quarterly Net Profit at Rs. 2,454.16 crore in June 2022 up 8.2% from Rs. 2,268.16 crore in June 2021.EBITDA stands at Rs. 8,331.51 crore in June 2022 down 0.54% from Rs. 8,376.68 crore in June 2021.REC EPS has increased to Rs. 12.43 in June 2022 from Rs. 11.49 in June 2021.REC shares closed at 132.70 on August 04, 2022 (NSE) and has given -5.62% returns over the last 6 months and -14.05% over the last 12 months.RECConsolidated Quarterly Resultsin Rs. Cr.Jun'22Mar'22Jun'21Net Sales/Income from operations9,375.909,316.989,439.22Other Operating Income121.55316.39192.39Total Income From Operations9,497.459,633.379,631.61EXPENDITUREConsumption of Raw Materials------Purchase of Traded Goods------Increase/Decrease in Stocks------Power & Fuel------Employees Cost81.1642.8843.97Depreciation5.955.492.89Excise Duty------Admin. And Selling Expenses------R & D Expenses------Provisions And Contingencies508.00761.86781.44Exp. Capitalised------Other Expenses585.39632.65437.89P/L Before Other Inc., Int., Excpt. Items & Tax8,316.958,190.498,365.42Other Income8.6119.908.37P/L Before Int., Excpt. Items & Tax8,325.568,210.398,373.79Interest5,375.595,353.085,587.96P/L Before Exceptional Items & Tax2,949.972,857.312,785.83Exceptional Items------P/L Before Tax2,949.972,857.312,785.83Tax495.81555.98518.72P/L After Tax from Ordinary Activities2,454.162,301.332,267.11Prior Year Adjustments------Extra Ordinary Items------Net Profit/(Loss) For the Period2,454.162,301.332,267.11Minority Interest------Share Of P/L Of Associates----1.05Net P/L After M.I & Associates2,454.162,301.332,268.16Equity Share Capital1,974.921,974.921,974.92Reserves Excluding Revaluation Reserves------Equity Dividend Rate (%)------EPS Before Extra OrdinaryBasic EPS12.4311.6511.49Diluted EPS12.4311.6511.49EPS After Extra OrdinaryBasic EPS12.4311.6511.49Diluted EPS12.4311.6511.49Public Share HoldingNo Of Shares (Crores)------Share Holding (%)------Promoters and Promoter Group Shareholdinga) Pledged/Encumbered- Number of shares (Crores)------- Per. of shares (as a % of the total sh. of prom. and promoter group)------- Per. of shares (as a % of the total Share Cap. of the company)------b) Non-encumbered- Number of shares (Crores)------- Per. of shares (as a % of the total sh. of prom. and promoter group)------- Per. of shares (as a % of the total Share Cap. of the company)------Source :  Dion Global Solutions Limited\n",
      "5\n",
      "Reported Consolidated quarterly numbers for REC are:Net Sales at Rs 9,633.37 crore in March 2022 up 4.58% from Rs. 9,211.46 crore in March 2021.Quarterly Net Profit at Rs. 2,301.33 crore in March 2022 up 10.76% from Rs. 2,077.84 crore in March 2021.EBITDA stands at Rs. 8,215.88 crore in March 2022 up 0.89% from Rs. 8,143.52 crore in March 2021.REC EPS has increased to Rs. 11.65 in March 2022 from Rs. 10.53 in March 2021.REC shares closed at 114.00 on May 13, 2022 (NSE) and has given -19.77% returns over the last 6 months and -17.99% over the last 12 months.RECConsolidated Quarterly Resultsin Rs. Cr.Mar'22Dec'21Mar'21Net Sales/Income from operations9,316.989,712.018,851.48Other Operating Income316.39325.04359.98Total Income From Operations9,633.3710,037.059,211.46EXPENDITUREConsumption of Raw Materials------Purchase of Traded Goods------Increase/Decrease in Stocks------Power & Fuel------Employees Cost42.8846.0439.72Depreciation5.495.142.87Excise Duty------Admin. And Selling Expenses------R & D Expenses------Provisions And Contingencies761.86815.02719.46Exp. Capitalised------Other Expenses632.65204.75313.06P/L Before Other Inc., Int., Excpt. Items & Tax8,190.498,966.108,136.35Other Income19.9033.374.30P/L Before Int., Excpt. Items & Tax8,210.398,999.478,140.65Interest5,353.085,547.875,440.72P/L Before Exceptional Items & Tax2,857.313,451.602,699.93Exceptional Items------P/L Before Tax2,857.313,451.602,699.93Tax555.98678.16626.54P/L After Tax from Ordinary Activities2,301.332,773.442,073.39Prior Year Adjustments------Extra Ordinary Items------Net Profit/(Loss) For the Period2,301.332,773.442,073.39Minority Interest------Share Of P/L Of Associates----4.45Net P/L After M.I & Associates2,301.332,773.442,077.84Equity Share Capital1,974.921,974.921,974.92Reserves Excluding Revaluation Reserves------Equity Dividend Rate (%)------EPS Before Extra OrdinaryBasic EPS11.6514.0410.53Diluted EPS11.6514.0410.53EPS After Extra OrdinaryBasic EPS11.6514.0410.53Diluted EPS11.6514.0410.53Public Share HoldingNo Of Shares (Crores)------Share Holding (%)------Promoters and Promoter Group Shareholdinga) Pledged/Encumbered- Number of shares (Crores)------- Per. of shares (as a % of the total sh. of prom. and promoter group)------- Per. of shares (as a % of the total Share Cap. of the company)------b) Non-encumbered- Number of shares (Crores)------- Per. of shares (as a % of the total sh. of prom. and promoter group)------- Per. of shares (as a % of the total Share Cap. of the company)------Source :  Dion Global Solutions Limited\n",
      "6\n",
      "Reported Standalone quarterly numbers for REC are:Net Sales at Rs 9,580.10 crore in March 2022 up 4.75% from Rs. 9,145.61 crore in March 2021.Quarterly Net Profit at Rs. 2,287.88 crore in March 2022 up 10.55% from Rs. 2,069.63 crore in March 2021.EBITDA stands at Rs. 8,191.63 crore in March 2022 up 0.68% from Rs. 8,136.56 crore in March 2021.REC EPS has increased to Rs. 11.58 in March 2022 from Rs. 10.48 in March 2021.REC shares closed at 114.00 on May 13, 2022 (NSE) and has given -19.77% returns over the last 6 months and -17.99% over the last 12 months.RECStandalone Quarterly Resultsin Rs. Cr.Mar'22Dec'21Mar'21Net Sales/Income from operations9,315.279,709.958,846.46Other Operating Income264.83296.94299.15Total Income From Operations9,580.1010,006.899,145.61EXPENDITUREConsumption of Raw Materials------Purchase of Traded Goods------Increase/Decrease in Stocks------Power & Fuel------Employees Cost36.0740.9134.62Depreciation5.435.072.65Excise Duty------Admin. And Selling Expenses------R & D Expenses------Provisions And Contingencies754.34819.02697.64Exp. Capitalised------Other Expenses619.53173.52281.02P/L Before Other Inc. , Int., Excpt. Items & Tax8,164.738,968.378,129.68Other Income21.4732.054.23P/L Before Int., Excpt. Items & Tax8,186.209,000.428,133.91Interest5,353.085,548.725,438.14P/L Before Exceptional Items & Tax2,833.123,451.702,695.77Exceptional Items------P/L Before Tax2,833.123,451.702,695.77Tax545.24679.05626.14P/L After Tax from Ordinary Activities2,287.882,772.652,069.63Prior Year Adjustments------Extra Ordinary Items------Net Profit/(Loss) For the Period2,287.882,772.652,069.63Equity Share Capital1,974.921,974.921,974.92Reserves Excluding Revaluation Reserves------Equity Dividend Rate (%)------EPS Before Extra OrdinaryBasic EPS11.5814.0410.48Diluted EPS11.5814.0410.48EPS After Extra OrdinaryBasic EPS11.5814.0410.48Diluted EPS11.5814.0410.48Public Share HoldingNo Of Shares (Crores)------Share Holding (%)------Promoters and Promoter Group Shareholdinga) Pledged/Encumbered- Number of shares (Crores)------- Per. of shares (as a % of the total sh. of prom. and promoter group)------- Per. of shares (as a % of the total Share Cap. of the company)------b) Non-encumbered- Number of shares (Crores)------- Per. of shares (as a % of the total sh. of prom. and promoter group)------- Per. of shares (as a % of the total Share Cap. of the company)------Source :  Dion Global Solutions Limited\n"
     ]
    }
   ],
   "source": [
    "for count,text in enumerate(articles,1):\n",
    "    print(count)\n",
    "    print(text)\n"
   ]
  },
  {
   "cell_type": "code",
   "execution_count": null,
   "id": "7e31008c",
   "metadata": {
    "pycharm": {
     "name": "#%%\n"
    }
   },
   "outputs": [],
   "source": [
    "data={\"Date\":dates,\n",
    "     \"Time\":times,\n",
    "     \"Author\":authors,\n",
    "     \"Headline\":headlines,\n",
    "     \"Subheadlines\":subheadlines,\n",
    "     \"Articles\":articles}\n",
    "\n",
    "df=pd.DataFrame(data)\n"
   ]
  },
  {
   "cell_type": "code",
   "execution_count": null,
   "id": "0b953d58",
   "metadata": {
    "pycharm": {
     "name": "#%%\n"
    }
   },
   "outputs": [],
   "source": [
    "df"
   ]
  },
  {
   "cell_type": "code",
   "execution_count": null,
   "id": "2ec59c98",
   "metadata": {
    "pycharm": {
     "name": "#%%\n"
    }
   },
   "outputs": [],
   "source": []
  }
 ],
 "metadata": {
  "kernelspec": {
   "display_name": "Python 3 (ipykernel)",
   "language": "python",
   "name": "python3"
  },
  "language_info": {
   "codemirror_mode": {
    "name": "ipython",
    "version": 3
   },
   "file_extension": ".py",
   "mimetype": "text/x-python",
   "name": "python",
   "nbconvert_exporter": "python",
   "pygments_lexer": "ipython3",
   "version": "3.8.8"
  }
 },
 "nbformat": 4,
 "nbformat_minor": 5
}
