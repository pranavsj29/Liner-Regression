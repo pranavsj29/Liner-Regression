{
 "cells": [
  {
   "cell_type": "code",
   "execution_count": 1,
   "id": "25cf4cb7",
   "metadata": {
    "pycharm": {
     "name": "#%%\n"
    }
   },
   "outputs": [
    {
     "name": "stdout",
     "output_type": "stream",
     "text": [
      "(237, 4)\n"
     ]
    },
    {
     "data": {
      "text/html": [
       "<div>\n",
       "<style scoped>\n",
       "    .dataframe tbody tr th:only-of-type {\n",
       "        vertical-align: middle;\n",
       "    }\n",
       "\n",
       "    .dataframe tbody tr th {\n",
       "        vertical-align: top;\n",
       "    }\n",
       "\n",
       "    .dataframe thead th {\n",
       "        text-align: right;\n",
       "    }\n",
       "</style>\n",
       "<table border=\"1\" class=\"dataframe\">\n",
       "  <thead>\n",
       "    <tr style=\"text-align: right;\">\n",
       "      <th></th>\n",
       "      <th>Gender</th>\n",
       "      <th>Age Range</th>\n",
       "      <th>Head Size(cm^3)</th>\n",
       "      <th>Brain Weight(grams)</th>\n",
       "    </tr>\n",
       "  </thead>\n",
       "  <tbody>\n",
       "    <tr>\n",
       "      <th>0</th>\n",
       "      <td>1</td>\n",
       "      <td>1</td>\n",
       "      <td>4512</td>\n",
       "      <td>1530</td>\n",
       "    </tr>\n",
       "    <tr>\n",
       "      <th>1</th>\n",
       "      <td>1</td>\n",
       "      <td>1</td>\n",
       "      <td>3738</td>\n",
       "      <td>1297</td>\n",
       "    </tr>\n",
       "    <tr>\n",
       "      <th>2</th>\n",
       "      <td>1</td>\n",
       "      <td>1</td>\n",
       "      <td>4261</td>\n",
       "      <td>1335</td>\n",
       "    </tr>\n",
       "    <tr>\n",
       "      <th>3</th>\n",
       "      <td>1</td>\n",
       "      <td>1</td>\n",
       "      <td>3777</td>\n",
       "      <td>1282</td>\n",
       "    </tr>\n",
       "    <tr>\n",
       "      <th>4</th>\n",
       "      <td>1</td>\n",
       "      <td>1</td>\n",
       "      <td>4177</td>\n",
       "      <td>1590</td>\n",
       "    </tr>\n",
       "  </tbody>\n",
       "</table>\n",
       "</div>"
      ],
      "text/plain": [
       "   Gender  Age Range  Head Size(cm^3)  Brain Weight(grams)\n",
       "0       1          1             4512                 1530\n",
       "1       1          1             3738                 1297\n",
       "2       1          1             4261                 1335\n",
       "3       1          1             3777                 1282\n",
       "4       1          1             4177                 1590"
      ]
     },
     "execution_count": 1,
     "metadata": {},
     "output_type": "execute_result"
    }
   ],
   "source": [
    "%matplotlib inline\n",
    "import numpy as np\n",
    "import pandas as pd\n",
    "import matplotlib.pyplot as plt\n",
    "plt.rcParams['figure.figsize']=(10.10,10.0)\n",
    "\n",
    "#reading data\n",
    "data = pd.read_csv('headbrain.csv')\n",
    "print(data.shape)\n",
    "data.head()\n"
   ]
  },
  {
   "cell_type": "code",
   "execution_count": 2,
   "id": "ec1ff5ca",
   "metadata": {
    "pycharm": {
     "name": "#%%\n"
    }
   },
   "outputs": [],
   "source": [
    "#collecting X and Y\n",
    "X = data['Head Size(cm^3)'].values\n",
    "Y = data['Brain Weight(grams)'].values"
   ]
  },
  {
   "cell_type": "code",
   "execution_count": 3,
   "id": "17bf37b5",
   "metadata": {
    "pycharm": {
     "name": "#%%\n"
    }
   },
   "outputs": [
    {
     "name": "stdout",
     "output_type": "stream",
     "text": [
      "0.26342933948939945 325.57342104944223\n"
     ]
    }
   ],
   "source": [
    "#Mean X and Y\n",
    "mean_x = np.mean(X)\n",
    "mean_y = np.mean(Y)\n",
    "\n",
    "#total number of values\n",
    "m=len(X)\n",
    "\n",
    "#Using formula a calculate b1 and b2\n",
    "numer = 0\n",
    "denom  = 0\n",
    "for i in range (m):\n",
    "    numer +=(X[i]-mean_x) *(Y[i] - mean_y)\n",
    "    denom  +=(X[i] -mean_x) **2\n",
    "b1 = numer /denom\n",
    "b0 = mean_y-(b1*mean_x)\n",
    "#Print coefficients\n",
    "print(b1,b0)"
   ]
  },
  {
   "cell_type": "code",
   "execution_count": 4,
   "id": "dc4d3f3b",
   "metadata": {
    "pycharm": {
     "name": "#%%\n"
    }
   },
   "outputs": [],
   "source": [
    "# #plotting values and Regression liner\n",
    "\n",
    "# max_x = np.max(X) + 100\n",
    "# min_x = np.min(X) - 100\n",
    "\n",
    "# #Calculating line values x and y\n",
    "# x = np.linspace(min_x,max_x,1000)\n",
    "# y= b0 + b1 * x\n",
    "\n",
    "# #Plotting line \n",
    "# plt.plot(x,y,color='#58b970',label='Regression Line')\n",
    "# #Plotting scatter point\n",
    "\n",
    "# plt.scatter(X,Y,c='#ef5423',label='scatter Plot')\n",
    "\n",
    "# plt.xlabel('Head size in cm3')\n",
    "# plt.ylabel('Brain Weight in grams')\n",
    "# plt.legend()\n",
    "# plt.show()"
   ]
  },
  {
   "cell_type": "code",
   "execution_count": 5,
   "id": "0947c7dd",
   "metadata": {
    "pycharm": {
     "name": "#%%\n"
    }
   },
   "outputs": [],
   "source": [
    "#plotting values and regression line\n",
    "#setting the limits of the x and y axis of the plot, the 100 is added to make all the points visible\n",
    "max_x = np.max(X) \n",
    "min_x = np.min(X) \n",
    "\n",
    "#make a linear space of 1000 evenly spaced numbers from min_x to max_x\n",
    "x = np.linspace(min_x, max_x, 1000) #this is used to plot the x axis of the regression line\n",
    "y= b0 + b1 * x #this is used to plot the y axis of the regression line"
   ]
  },
  {
   "cell_type": "code",
   "execution_count": 6,
   "id": "f4bfdf26",
   "metadata": {
    "pycharm": {
     "name": "#%%\n"
    }
   },
   "outputs": [
    {
     "data": {
      "image/png": "[encoded data removed]",
      "text/plain": [
       "<Figure size 727.2x720 with 1 Axes>"
      ]
     },
     "metadata": {
      "needs_background": "light"
     },
     "output_type": "display_data"
    }
   ],
   "source": [
    "#plotting Scatter points\n",
    "plt.scatter(X, Y, color='#ef4423', label='Scatter points')\n",
    "#plotting line\n",
    "plt.plot(x, y, color='#52b920', label='Regression line')\n",
    "plt.xlabel('Head size in cm3')\n",
    "plt.ylabel('Brain Weight in grams')\n",
    "plt.legend()\n",
    "plt.show()"
   ]
  },
  {
   "cell_type": "code",
   "execution_count": 7,
   "id": "66bbb880",
   "metadata": {
    "pycharm": {
     "name": "#%%\n"
    }
   },
   "outputs": [
    {
     "name": "stdout",
     "output_type": "stream",
     "text": [
      "0.6393117199570003\n"
     ]
    }
   ],
   "source": [
    "ss_t =0\n",
    "ss_r=0\n",
    "for i in range(m):\n",
    "    y_pred = b0 + b1 * X[i]\n",
    "    ss_t +=(Y[i]-mean_y)**2\n",
    "    ss_r +=(Y[i]-y_pred)**2\n",
    "r2 =1 - (ss_r/ss_t)\n",
    "print(r2)"
   ]
  },
  {
   "cell_type": "code",
   "execution_count": 8,
   "id": "2f0e1e87",
   "metadata": {
    "pycharm": {
     "name": "#%%\n"
    }
   },
   "outputs": [
    {
     "name": "stdout",
     "output_type": "stream",
     "text": [
      "63.9311719957 percent\n"
     ]
    }
   ],
   "source": [
    "from sklearn.linear_model import LinearRegression\n",
    "from sklearn.metrics import r2_score\n",
    "\n",
    "X = X.reshape(m, 1) #we cannot use rank 1 matrices in sklearn so we reshape\n",
    "\n",
    "#model definition\n",
    "brain_model = LinearRegression()\n",
    "\n",
    "#model fitting\n",
    "brain_model.fit(X, Y)\n",
    "\n",
    "#model prediction\n",
    "pred = brain_model.predict(X)\n",
    "\n",
    "#model evaluation\n",
    "r_squared_score = r2_score(Y, pred)\n",
    "\n",
    "print((r_squared_score * 100), \"percent\")"
   ]
  },
  {
   "cell_type": "code",
   "execution_count": 9,
   "id": "d4064eb6",
   "metadata": {
    "pycharm": {
     "name": "#%%\n"
    }
   },
   "outputs": [],
   "source": []
  }
 ],
 "metadata": {
  "kernelspec": {
   "display_name": "Python 3 (ipykernel)",
   "language": "python",
   "name": "python3"
  },
  "language_info": {
   "codemirror_mode": {
    "name": "ipython",
    "version": 3
   },
   "file_extension": ".py",
   "mimetype": "text/x-python",
   "name": "python",
   "nbconvert_exporter": "python",
   "pygments_lexer": "ipython3",
   "version": "3.8.8"
  }
 },
 "nbformat": 4,
 "nbformat_minor": 5
}
