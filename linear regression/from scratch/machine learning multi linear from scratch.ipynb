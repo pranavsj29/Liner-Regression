{
 "cells": [
  {
   "cell_type": "code",
   "execution_count": null,
   "metadata": {
    "pycharm": {
     "name": "#%%\n"
    }
   },
   "outputs": [],
   "source": [
    "import pandas as pd\n",
    "import numpy as np\n",
    "import math\n",
    "import matplotlib.pyplot as plt\n",
    "from sklearn.model_selection import train_test_split\n",
    "df  = pd.read_csv('advertising.csv')\n",
    "df"
   ]
  },
  {
   "cell_type": "code",
   "execution_count": null,
   "metadata": {
    "pycharm": {
     "name": "#%%\n"
    }
   },
   "outputs": [],
   "source": [
    "x = df.iloc[:,:-1]\n",
    "y = df['Sales']\n",
    "x = np.array(x)\n",
    "y = np.array(y)\n",
    "def norm(x):\n",
    "    xx = np.mean(x)\n",
    "    m = np.max(x)\n",
    "    n = np.min(x)\n",
    "    x= (x-xx)/(m-n)\n",
    "    return x\n",
    "def stand(x):\n",
    "    x = (x-np.mean(x))/np.std(x)\n",
    "    return x\n",
    "x  = stand(x)\n",
    "y = stand(y)\n",
    "# plt.scatter(x,y)\n",
    "print(x.shape[1],y.shape)\n",
    "x_train, x_test, y_train, y_test = train_test_split(x, y, test_size=0.3, random_state=1)"
   ]
  },
  {
   "cell_type": "code",
   "execution_count": null,
   "metadata": {
    "pycharm": {
     "name": "#%%\n"
    }
   },
   "outputs": [],
   "source": [
    "def linearRegression(x,y,iterations  = 1000 ,learning_rate = 0.001,stopping = 1e-6):\n",
    "    # m = [0]*x.shape[1]\n",
    "    m = np.zeros(x.shape[1])\n",
    "    c = 0\n",
    "    # learning_rate = 0.1\n",
    "    n = float(len(x))\n",
    "    costs = []\n",
    "    weights  = []\n",
    "    cm =[]\n",
    "    previous_cost  = 0\n",
    "    it = []\n",
    "    for i in range(iterations):\n",
    "        Yp = np.dot(x , m) + c\n",
    "        cost = (np.square(np.subtract(y,Yp)).mean())\n",
    "        costs.append(cost)\n",
    "        it.append(i)\n",
    "        weights.append(m)\n",
    "        cm.append(c)\n",
    "        if i > 0:\n",
    "            if np.abs(cost - previous_cost) < stopping:\n",
    "                break\n",
    "\n",
    "\n",
    "        weight_derivative = (2/n) *np.dot(x.T , (Yp-y))\n",
    "        bias_derivative = (2/n) * sum(Yp-y)\n",
    "        # print(weight_derivative)\n",
    "        m = m - (learning_rate * weight_derivative)\n",
    "        c = c - (learning_rate * bias_derivative)\n",
    "        previous_cost = cost\n",
    "        print('iteration: ',i,'current cost :',cost,'current weight and bias :',m,c)\n",
    "    plt.plot(it,costs)\n",
    "    # plt.show()\n",
    "    # plt.plot(cm,costs)\n",
    "    plt.show()\n",
    "    # print(i)\n",
    "    return m,c\n",
    "\n",
    "m,c = linearRegression(x_train,y_train,learning_rate = 0.1,iterations = 1000)\n",
    "# plt.scatter(x_test)\n",
    "# plt.plot(x_test,m * x_test + c, color='red')\n",
    "y_pred = np.dot(m,x_test.T) + c\n",
    "# plt.show()"
   ]
  },
  {
   "cell_type": "code",
   "execution_count": null,
   "metadata": {
    "pycharm": {
     "name": "#%%\n"
    }
   },
   "outputs": [],
   "source": [
    "from sklearn.metrics import mean_absolute_error\n",
    "m = mean_absolute_error(y_test, y_pred)\n",
    "from sklearn.metrics import r2_score\n",
    "r = r2_score(y_test, y_pred)\n",
    "print(\"mse:     \",m)\n",
    "print(\"r2_score:\",r)"
   ]
  }
 ],
 "metadata": {
  "kernelspec": {
   "display_name": "Python 3 (ipykernel)",
   "language": "python",
   "name": "python3"
  },
  "language_info": {
   "codemirror_mode": {
    "name": "ipython",
    "version": 3
   },
   "file_extension": ".py",
   "mimetype": "text/x-python",
   "name": "python",
   "nbconvert_exporter": "python",
   "pygments_lexer": "ipython3",
   "version": "3.8.8"
  }
 },
 "nbformat": 4,
 "nbformat_minor": 1
}
